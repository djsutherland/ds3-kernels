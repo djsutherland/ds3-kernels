{
 "cells": [
  {
   "cell_type": "markdown",
   "metadata": {},
   "source": [
    "<!-- SOLUTION BLOCK -->\n",
    "<h2 style=\"color: red\">This is the solutions file!</h2>\n",
    "\n",
    "<span style=\"color: red\">We strongly recommend not looking at this file, which contains the solutions to all the exercises, until after the practical is over. Use [`practical.ipynb`](practical.ipynb) instead.</span>"
   ]
  },
  {
   "cell_type": "markdown",
   "metadata": {},
   "source": [
    "This notebook is the practical component of the [Data Science Summer School](https://www.ds3-datascience-polytechnique.fr) 2019 session on \"Learning With Positive Definite Kernels: Theory, Algorithms, and Applications.\"\n",
    "\n",
    "It was prepared primarily by [Dougal Sutherland](http://www.gatsby.ucl.ac.uk/~dougals/), based on discussions with [Bharath Sriperumbudur](http://personal.psu.edu/bks18/), and partially based on earlier [materials](https://github.com/karlnapf/ds3_kernel_testing) by [Heiko Strathmann](http://herrstrathmann.de/)."
   ]
  },
  {
   "cell_type": "markdown",
   "metadata": {},
   "source": [
    "We'll cover, in varying levels of detail, the following topics:\n",
    "\n",
    "- Solving regression problems with kernel ridge regression:\n",
    "  - The \"standard\" approach.\n",
    "  - Computational/statistical tradeoffs using the Nyström and random Fourier kernel approximations.\n",
    "  - Learning an appropriate kernel function in a meta-learning setting.\n",
    "- Two-sample testing with the kernel Maximum Mean Discrepancy (MMD):\n",
    "  - Estimators for the MMD.\n",
    "  - Learning an appropriate kernel function."
   ]
  },
  {
   "cell_type": "markdown",
   "metadata": {},
   "source": [
    "## Dependencies\n",
    "\n"
   ]
  },
  {
   "cell_type": "markdown",
   "metadata": {},
   "source": [
    "### Files\n",
    "There are a few Python files and some data files in the repository. By far the easiest thing to do is just put them all in the same directory:\n",
    "\n",
    "```\n",
    "git clone https://github.com/dougalsutherland/ds3-kernels\n",
    "```"
   ]
  },
  {
   "cell_type": "markdown",
   "metadata": {},
   "source": [
    "#### Python version\n",
    "This notebook requires Python 3.6+. Python 3.0 was released in 2008, and it's time to stop living in the past; most importart Python projects [are dropping support for Python 2 this year](https://python3statement.org/). If you've never used Python 3 before, don't worry! It's almost the same; for the purposes of this notebook, you probably only need to know that you should write `print(\"hi\")` since it's a function call now, and you can write `A @ B` instead of `np.dot(A, B)`."
   ]
  },
  {
   "cell_type": "markdown",
   "metadata": {},
   "source": [
    "#### Python packages\n",
    "We recommend the `conda` package manager; if you don't have it already, install [miniconda](https://docs.conda.io/en/latest/miniconda.html). You can create an environment with everything you need as:\n",
    "\n",
    "```bash\n",
    "conda create --name ds3-kernels \\\n",
    "  --override-channels -c conda-forge -c defaults --strict-channel-priority \\\n",
    "  python=3 \\\n",
    "  notebook nb_conda_kernels \\\n",
    "  numpy scipy scikit-learn autograd \\\n",
    "  matplotlib seaborn tqdm\n",
    "\n",
    "conda activate ds3-kernels\n",
    "\n",
    "git clone https://github.com/dougalsutherland/ds3-kernels\n",
    "cd ds3-kernels\n",
    "jupyter notebook\n",
    "```\n",
    "\n",
    "If you have an old conda setup, you can use `source activate` instead of `conda activate`, but it's better to [switch to the new style of activation](https://conda.io/projects/conda/en/latest/release-notes.html#recommended-change-to-enable-conda-in-your-shell). This won't matter for this tutorial, but it's general good practice.\n",
    "\n",
    "`nb_conda_kernels` makes it easy to switch conda environments inside Jupyter. It's not _necessary_, but it makes life a little easier.\n",
    "\n",
    "If you don't want to use conda and already have a standard Python 3.6+ and Jupyter setup, we're actually not using anything that out of the ordinary; you can probably get everything not totally ordinary\n",
    "```\n",
    "pip install scikit-learn autograd seaborn tqdm\n",
    "```\n",
    "All of the imports are right below, so if that runs you shouldn't hit anything later on that'll surprise you."
   ]
  },
  {
   "cell_type": "markdown",
   "metadata": {},
   "source": [
    "For the bits that do some \"deep learning\", you have a few options:\n",
    "\n",
    "- The default on is [Autograd](https://github.com/HIPS/autograd). Use this if you're not already super-comfortable with one of the other options; it's very easy to use if you already know Numpy. We'll have a brief intro when you need it.\n",
    "- You can also use PyTorch or TensorFlow (in [eager mode](https://www.tensorflow.org/guide/eager)) if you want. Make the choice here by assigning the right value to `engine`:"
   ]
  },
  {
   "cell_type": "code",
   "execution_count": 1,
   "metadata": {},
   "outputs": [],
   "source": [
    "from ds3_support import Engine\n",
    "\n",
    "engine = Engine.AUTOGRAD\n",
    "# engine = Engine.PYTORCH\n",
    "# engine = Engine.TENSORFLOW"
   ]
  },
  {
   "cell_type": "code",
   "execution_count": 2,
   "metadata": {},
   "outputs": [],
   "source": [
    "%matplotlib inline\n",
    "import matplotlib.pyplot as plt\n",
    "import seaborn as sns\n",
    "sns.set(context='notebook')\n",
    "\n",
    "if engine == Engine.AUTOGRAD:\n",
    "    import autograd.numpy as np\n",
    "    from autograd import grad\n",
    "elif engine == Engine.PYTORCH:\n",
    "    import torch\n",
    "elif engine == Engine.TENSORFLOW:\n",
    "    import tensorflow as tf\n",
    "    tf.enable_eager_execution()"
   ]
  },
  {
   "cell_type": "markdown",
   "metadata": {},
   "source": [
    "## Ridge regression"
   ]
  },
  {
   "cell_type": "markdown",
   "metadata": {},
   "source": [
    "## Hypothesis testing with MMD"
   ]
  },
  {
   "cell_type": "markdown",
   "metadata": {},
   "source": [
    "## Advanced ridge regression: Meta-learning"
   ]
  },
  {
   "cell_type": "code",
   "execution_count": null,
   "metadata": {},
   "outputs": [],
   "source": []
  }
 ],
 "metadata": {
  "kernelspec": {
   "display_name": "Python [conda env:py3] *",
   "language": "python",
   "name": "conda-env-py3-py"
  },
  "language_info": {
   "codemirror_mode": {
    "name": "ipython",
    "version": 3
   },
   "file_extension": ".py",
   "mimetype": "text/x-python",
   "name": "python",
   "nbconvert_exporter": "python",
   "pygments_lexer": "ipython3",
   "version": "3.6.7"
  }
 },
 "nbformat": 4,
 "nbformat_minor": 2
}
